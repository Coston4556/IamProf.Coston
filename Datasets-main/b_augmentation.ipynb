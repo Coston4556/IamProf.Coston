{
 "cells": [
  {
   "cell_type": "markdown",
   "id": "45c87c25",
   "metadata": {},
   "source": [
    "### This is code for data augmentation\n",
    "\n",
    "You can use it to augment your image datasets. Just change the root folders and play the notebook."
   ]
  },
  {
   "cell_type": "code",
   "execution_count": null,
   "id": "dc4b9ef9",
   "metadata": {},
   "outputs": [],
   "source": [
    "%pip install albumentations"
   ]
  },
  {
   "cell_type": "code",
   "execution_count": null,
   "id": "45b4d21e",
   "metadata": {},
   "outputs": [],
   "source": [
    "import cv2\n",
    "import os\n",
    "import shutil\n",
    "import albumentations as A\n",
    "import numpy as np\n",
    "\n",
    "# Define root folders [ Change the names depending on your current structure ]\n",
    "dataset = \"./ProcessedFruit\"\n",
    "augmented_dataset = \"./AugmentedFruit\"\n",
    "\n",
    "# use a variable to count successful augmented images \n",
    "count_augmented_imaged = 0"
   ]
  },
  {
   "cell_type": "code",
   "execution_count": null,
   "id": "fc91044f",
   "metadata": {},
   "outputs": [],
   "source": [
    "# if you need more transformations to add, you can find them at: \n",
    "# https://albumentations.ai/docs/3-basic-usage/choosing-augmentations/\n",
    "\n",
    "# Define augmentation pipeline\n",
    "transform = A.Compose([\n",
    "    A.HorizontalFlip(p=0.5),\n",
    "    A.RandomBrightnessContrast(p=0.4),\n",
    "    A.Rotate(limit=20, p=0.5),\n",
    "    A.RandomCrop(width=64, height=64, p=0.3),\n",
    "])"
   ]
  },
  {
   "cell_type": "code",
   "execution_count": null,
   "id": "64d00122",
   "metadata": {},
   "outputs": [
    {
     "name": "stderr",
     "output_type": "stream",
     "text": [
      "/Users/ame/Library/Python/3.9/lib/python/site-packages/tqdm/auto.py:21: TqdmWarning: IProgress not found. Please update jupyter and ipywidgets. See https://ipywidgets.readthedocs.io/en/stable/user_install.html\n",
      "  from .autonotebook import tqdm as notebook_tqdm\n",
      "libpng warning: iCCP: known incorrect sRGB profile\n",
      "libpng warning: iCCP: known incorrect sRGB profile\n",
      "libpng warning: iCCP: known incorrect sRGB profile\n"
     ]
    },
    {
     "name": "stdout",
     "output_type": "stream",
     "text": [
      "Done augmenting:  275  images\n"
     ]
    },
    {
     "name": "stderr",
     "output_type": "stream",
     "text": [
      "libpng warning: iCCP: known incorrect sRGB profile\n"
     ]
    }
   ],
   "source": [
    "# Delete augmented_dataset if it exists\n",
    "if os.path.exists(augmented_dataset):\n",
    "    shutil.rmtree(augmented_dataset)\n",
    "os.makedirs(augmented_dataset, exist_ok=True)\n",
    "\n",
    "# Loop through all files recursively,\n",
    "for root, _, files in os.walk(dataset):\n",
    "    for filename in files:\n",
    "        if filename.lower().endswith((\".jpg\", \".jpeg\", \".png\")):\n",
    "            input_path = os.path.join(root, filename)\n",
    "\n",
    "            # Preserve folder structure\n",
    "            relative_path = os.path.relpath(input_path, dataset)\n",
    "            output_path = os.path.join(augmented_dataset, relative_path)\n",
    "            output_dir = os.path.dirname(output_path)\n",
    "            os.makedirs(output_dir, exist_ok=True)\n",
    "\n",
    "            # Load image, and check if it is an image\n",
    "            image = cv2.imread(input_path)\n",
    "            if image is None:\n",
    "                print(f\"Skipping unreadable image: {input_path}\")\n",
    "                continue\n",
    "\n",
    "            # Save original (copy)\n",
    "            shutil.copy2(input_path, output_path)\n",
    "\n",
    "            # Apply augmentation with correct color map\n",
    "            image_rgb = cv2.cvtColor(image, cv2.COLOR_BGR2RGB)\n",
    "            augmented = transform(image=image_rgb)[\"image\"]\n",
    "            augmented_bgr = cv2.cvtColor(augmented, cv2.COLOR_RGB2BGR)\n",
    "\n",
    "            # Save augmented image with prefix\n",
    "            aug_filename = f\"aug_{filename}\"\n",
    "            aug_path = os.path.join(output_dir, aug_filename)\n",
    "            cv2.imwrite(aug_path, augmented_bgr)\n",
    "            count_augmented_imaged += 1\n",
    "\n",
    "print(\"Done augmenting: \", count_augmented_imaged, \" images\")"
   ]
  }
 ],
 "metadata": {
  "kernelspec": {
   "display_name": "Python 3",
   "language": "python",
   "name": "python3"
  },
  "language_info": {
   "codemirror_mode": {
    "name": "ipython",
    "version": 3
   },
   "file_extension": ".py",
   "mimetype": "text/x-python",
   "name": "python",
   "nbconvert_exporter": "python",
   "pygments_lexer": "ipython3",
   "version": "3.9.6"
  }
 },
 "nbformat": 4,
 "nbformat_minor": 5
}
